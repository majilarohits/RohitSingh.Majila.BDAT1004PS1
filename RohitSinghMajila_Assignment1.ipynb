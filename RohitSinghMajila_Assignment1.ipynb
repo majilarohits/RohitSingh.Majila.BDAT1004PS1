{
 "cells": [
  {
   "cell_type": "markdown",
   "id": "fe101cec",
   "metadata": {},
   "source": [
    "\n",
    "# Question 6 Python"
   ]
  },
  {
   "cell_type": "markdown",
   "id": "d4e21cb5",
   "metadata": {},
   "source": [
    "\n",
    "You can turn a word into pig-Latin using the following two rules (simplified):\n",
    "• If the word starts with a consonant, move that letter to the end and append 'ay'. For example, 'happy' becomes 'appyhay' and 'pencil' becomes 'encilpay'.\n",
    "• If the word starts with a vowel, simply append 'way' to the end of the word. For example, 'enter' becomes 'enterway' and 'other' becomes 'otherway' . For our purposes, there are 5 vowels: a, e, i, o, u (so we count y as a consonant).\n",
    "Write a function pig() that takes a word (i.e., a string) as input and returns its pig- Latin form. Your function should still work if the input word contains upper case characters. Your output should always be lower case however."
   ]
  },
  {
   "cell_type": "code",
   "execution_count": 3,
   "id": "8cbaf60e",
   "metadata": {},
   "outputs": [],
   "source": [
    "# list of vowels\n",
    "vowels = ['a','e','i','o','u']\n",
    "def pig(word):\n",
    "    \n",
    "    #checking if the word starts with vowel or not\n",
    "    if word[0].lower() in vowels:\n",
    "        print(word.lower() + 'way')\n",
    "    else:\n",
    "        first_letter = word[0]\n",
    "        print(word[1:].lower()+first_letter.lower()+'ay')"
   ]
  },
  {
   "cell_type": "code",
   "execution_count": 4,
   "id": "885d50d7",
   "metadata": {},
   "outputs": [
    {
     "name": "stdout",
     "output_type": "stream",
     "text": [
      "appyhay\n"
     ]
    }
   ],
   "source": [
    "pig('happy')"
   ]
  },
  {
   "cell_type": "code",
   "execution_count": 5,
   "id": "9c7390d4",
   "metadata": {},
   "outputs": [
    {
     "name": "stdout",
     "output_type": "stream",
     "text": [
      "enterway\n"
     ]
    }
   ],
   "source": [
    "pig('Enter')"
   ]
  },
  {
   "cell_type": "markdown",
   "id": "faad6723",
   "metadata": {},
   "source": [
    "# Question 7 Python"
   ]
  },
  {
   "cell_type": "markdown",
   "id": "02f9289c",
   "metadata": {},
   "source": [
    "File bloodtype1.txt records blood-types of patients (A, B, AB, O or OO) at a clinic. Write a function bldcount() that reads the file with name name and reports (i.e., prints) how many patients there are in each bloodtype."
   ]
  },
  {
   "cell_type": "code",
   "execution_count": 6,
   "id": "d19c6513",
   "metadata": {},
   "outputs": [],
   "source": [
    "def bldcount(filename):\n",
    "    \n",
    "    #reading the file\n",
    "    x = open(filename,'r')\n",
    "    words = x.readline()\n",
    "    lst = []\n",
    "    blood_types = ['A','B','AB','O','OO']\n",
    "    \n",
    "    #Spliting the words and storing them in a list\n",
    "    lst.append(words.split(\" \"))\n",
    "    \n",
    "    #checking the count for each blood type\n",
    "    for blood_type in blood_types:\n",
    "        print(\"There are {} patients of blood type {}.\".format(lst[0].count(blood_type),blood_type))"
   ]
  },
  {
   "cell_type": "code",
   "execution_count": 7,
   "id": "2a16b948",
   "metadata": {},
   "outputs": [
    {
     "name": "stdout",
     "output_type": "stream",
     "text": [
      "There are 15 patients of blood type A.\n",
      "There are 1 patients of blood type B.\n",
      "There are 13 patients of blood type AB.\n",
      "There are 15 patients of blood type O.\n",
      "There are 0 patients of blood type OO.\n"
     ]
    }
   ],
   "source": [
    "bldcount('bloodtype.txt')"
   ]
  },
  {
   "cell_type": "markdown",
   "id": "ab1eee42",
   "metadata": {},
   "source": [
    "# Question 8 Python"
   ]
  },
  {
   "cell_type": "markdown",
   "id": "8ad2fb02",
   "metadata": {},
   "source": [
    "Write a function curconv() that takes as input:\n",
    "\n",
    "1.a currency represented using a string (e.g., 'JPY' for the Japanese Yen or 'EUR' for the Euro)\n",
    "  an amount\n",
    "2.and then converts and returns the amount in US dollars."
   ]
  },
  {
   "cell_type": "code",
   "execution_count": 11,
   "id": "46ed52eb",
   "metadata": {},
   "outputs": [],
   "source": [
    "def curconv(currency,amount):\n",
    "    currencies = {}\n",
    "    \n",
    "    #reading the file\n",
    "    cur_file = open('currencies.txt')\n",
    "    lines = cur_file.readlines()\n",
    "    \n",
    "    #storing the currency in the key and it's corresponding $ value and name in value.\n",
    "    for x in lines:\n",
    "        currencies[x[:3].strip()] = x[4:].split(\"\\t\")\n",
    "    value = currencies[currency][0].strip()\n",
    "    print(amount * float(value))"
   ]
  },
  {
   "cell_type": "code",
   "execution_count": 12,
   "id": "8e651936",
   "metadata": {},
   "outputs": [
    {
     "name": "stdout",
     "output_type": "stream",
     "text": [
      "122.96544\n"
     ]
    }
   ],
   "source": [
    "curconv('EUR', 100)"
   ]
  },
  {
   "cell_type": "code",
   "execution_count": 13,
   "id": "ae84f1cd",
   "metadata": {},
   "outputs": [
    {
     "name": "stdout",
     "output_type": "stream",
     "text": [
      "1.241401\n"
     ]
    }
   ],
   "source": [
    "curconv('JPY', 100)"
   ]
  },
  {
   "cell_type": "markdown",
   "id": "918fd301",
   "metadata": {},
   "source": [
    "# Question 9 Python"
   ]
  },
  {
   "cell_type": "markdown",
   "id": "a633a5ce",
   "metadata": {},
   "source": [
    "Each of the following will cause an exception (an error). Identify what type of exception each will cause."
   ]
  },
  {
   "cell_type": "markdown",
   "id": "a5701fc2",
   "metadata": {},
   "source": [
    "Error\tError Message\n",
    "Trying to add incompatible variables, as in adding 6 + ‘a’\tUnsupported type\n",
    "Referring to the 12th item of a list that has only 10 items\tOut of index\n",
    "Using a value that is out of range for a function’s input, such as calling math.sqrt(-1.0)\tdomain error\n",
    "Using an undeclared variable, such as print(x) when x has not been defined\tvariable not defined\n",
    "Trying to open a file that does not exist, such as mistyping the file name or looking in the wrong directory.\tNo such directory found\n"
   ]
  },
  {
   "cell_type": "markdown",
   "id": "b7e97529",
   "metadata": {},
   "source": [
    "Error\tError Message\n",
    "Trying to add incompatible variables, as in adding 6 + ‘a’\tUnsupported type\n",
    "Referring to the 12th item of a list that has only 10 items\tOut of index\n",
    "Using a value that is out of range for a function’s input, such as calling math.sqrt(-1.0)\tdomain error\n",
    "Using an undeclared variable, such as print(x) when x has not been defined\tvariable not defined\n",
    "Trying to open a file that does not exist, such as mistyping the file name or looking in the wrong directory.\tNo such directory found"
   ]
  },
  {
   "cell_type": "markdown",
   "id": "1a9557c1",
   "metadata": {},
   "source": [
    "# Question 10 Python"
   ]
  },
  {
   "cell_type": "markdown",
   "id": "53fcbbac",
   "metadata": {},
   "source": [
    "Encryption is the process of hiding the meaning of a text by substituting letters in the message with other letters, according to some system. If the process is successful, no one but the intended recipient can understand the encrypted message. Cryptanalysis refers to attempts to undo the encryption, even if some details of the encryption are unknown (for example, if an encrypted message has been intercepted). The first step of cryptanalysis is often to build up a table of letter frequencies in the encrypted text. Assume that the string letters is already defined as 'abcdefghijklmnopqrstuvwxyz'. Write a function called frequencies() that takes a string as its only parameter, and returns a list of integers, showing the number of times each character appears in the text. Your function may ignore any characters that are not in letters."
   ]
  },
  {
   "cell_type": "code",
   "execution_count": 19,
   "id": "5d2f5228",
   "metadata": {},
   "outputs": [],
   "source": [
    "def frequencies(text):\n",
    "    \n",
    "    #set of alphabets\n",
    "    alphabets = ('a','b','c','d','e','f','g','h','i','j','k','l','m','n','o','p','q','r','s','t','u','v','w','x','y','z')\n",
    "    total_characters = []\n",
    "    alpha_dict = {}\n",
    "    #picking character from every word of input and appending it to total_character list.\n",
    "    for word in text:\n",
    "        for char in word:\n",
    "            if char.isalpha():\n",
    "                total_characters.append(char)\n",
    "    #checking if the alphabet is present in the total_character list than assigning it it's count otherwise 0\n",
    "    for char in alphabets:\n",
    "        if char in total_characters:\n",
    "            alpha_dict[char] = total_characters.count(char)\n",
    "        else:\n",
    "            alpha_dict[char] = 0\n",
    "            \n",
    "    #printing out the values(count) of the alphabets present in the total_character list\n",
    "    print(list(alpha_dict.values()))"
   ]
  },
  {
   "cell_type": "code",
   "execution_count": 20,
   "id": "87e665c9",
   "metadata": {},
   "outputs": [
    {
     "name": "stdout",
     "output_type": "stream",
     "text": [
      "[1, 1, 1, 3, 5, 1, 1, 2, 1, 0, 1, 0, 1, 2, 4, 0, 1, 2, 0, 2, 1, 0, 1, 1, 0, 0]\n"
     ]
    }
   ],
   "source": [
    "frequencies('The quick red fox got bored and went home.')"
   ]
  },
  {
   "cell_type": "code",
   "execution_count": 21,
   "id": "282ef423",
   "metadata": {},
   "outputs": [
    {
     "name": "stdout",
     "output_type": "stream",
     "text": [
      "[1, 0, 0, 0, 1, 0, 0, 0, 0, 0, 0, 1, 0, 0, 0, 2, 0, 0, 0, 0, 0, 0, 0, 0, 0, 0]\n"
     ]
    }
   ],
   "source": [
    "frequencies('apple')"
   ]
  }
 ],
 "metadata": {
  "kernelspec": {
   "display_name": "Python 3 (ipykernel)",
   "language": "python",
   "name": "python3"
  },
  "language_info": {
   "codemirror_mode": {
    "name": "ipython",
    "version": 3
   },
   "file_extension": ".py",
   "mimetype": "text/x-python",
   "name": "python",
   "nbconvert_exporter": "python",
   "pygments_lexer": "ipython3",
   "version": "3.9.12"
  }
 },
 "nbformat": 4,
 "nbformat_minor": 5
}
